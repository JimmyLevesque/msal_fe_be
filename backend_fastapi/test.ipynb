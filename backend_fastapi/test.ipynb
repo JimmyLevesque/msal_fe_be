{
 "cells": [
  {
   "cell_type": "code",
   "execution_count": 1,
   "metadata": {},
   "outputs": [
    {
     "data": {
      "text/plain": [
       "True"
      ]
     },
     "execution_count": 1,
     "metadata": {},
     "output_type": "execute_result"
    }
   ],
   "source": [
    "from dotenv import load_dotenv, find_dotenv\n",
    "\n",
    "load_dotenv(find_dotenv(filename=\"app/.env\"))"
   ]
  },
  {
   "cell_type": "code",
   "execution_count": 2,
   "metadata": {},
   "outputs": [],
   "source": [
    "from app.config import settings\n",
    "import msal\n",
    "\n",
    "import webbrowser\n",
    "from urllib.parse import urlparse, parse_qs\n"
   ]
  },
  {
   "cell_type": "code",
   "execution_count": 3,
   "metadata": {},
   "outputs": [
    {
     "name": "stderr",
     "output_type": "stream",
     "text": [
      "/Users/jimmylevesque/Desktop/repos/openid_fe_be/backend_fastapi/.venv/lib/python3.9/site-packages/urllib3/__init__.py:35: NotOpenSSLWarning: urllib3 v2 only supports OpenSSL 1.1.1+, currently the 'ssl' module is compiled with 'LibreSSL 2.8.3'. See: https://github.com/urllib3/urllib3/issues/3020\n",
      "  warnings.warn(\n"
     ]
    }
   ],
   "source": [
    "app = msal.ConfidentialClientApplication(\n",
    "    settings.AZURE_CLIENT_ID,\n",
    "    authority=f\"{settings.AZURE_RESOURCE}/{settings.AZURE_TENANT}\",\n",
    "    client_credential=settings.AZURE_CLIENTSECRET,\n",
    "    )"
   ]
  },
  {
   "cell_type": "code",
   "execution_count": 5,
   "metadata": {},
   "outputs": [],
   "source": [
    "flow = app.initiate_auth_code_flow(scopes=[], redirect_uri=settings.AZURE_REDIRECT)"
   ]
  },
  {
   "cell_type": "code",
   "execution_count": 7,
   "metadata": {},
   "outputs": [
    {
     "data": {
      "text/plain": [
       "{'state': 'HqmzTBKIOgsFuNrL',\n",
       " 'redirect_uri': 'http://localhost:8050/login',\n",
       " 'scope': ['openid', 'offline_access', 'profile'],\n",
       " 'auth_uri': 'https://login.microsoftonline.com/cb64532c-b24e-4107-8e77-8ca4fec9dbf6/oauth2/v2.0/authorize?client_id=066da87c-2d5f-4034-a01a-9d4694ccbd03&response_type=code&redirect_uri=http%3A%2F%2Flocalhost%3A8050%2Flogin&scope=offline_access+openid+profile&state=HqmzTBKIOgsFuNrL&code_challenge=UUgzTEAU75eocqCwv4ujj2GFKvLICEVB3s5vGG4f--w&code_challenge_method=S256&nonce=f15158a84d07ba96dfa242e3d5c4a2f830a1f009eef7d95321a745c1ee057e5b&client_info=1',\n",
       " 'code_verifier': 'z_BgsdOj~xvVHX5f3clAIi6rhDP7NWbkwMeSmLoaE0J',\n",
       " 'nonce': 'JzRVTOxrEhqWtowk',\n",
       " 'claims_challenge': None}"
      ]
     },
     "execution_count": 7,
     "metadata": {},
     "output_type": "execute_result"
    }
   ],
   "source": [
    "flow"
   ]
  },
  {
   "cell_type": "code",
   "execution_count": 8,
   "metadata": {},
   "outputs": [
    {
     "data": {
      "text/plain": [
       "{'client_id': ['066da87c-2d5f-4034-a01a-9d4694ccbd03'],\n",
       " 'response_type': ['code'],\n",
       " 'redirect_uri': ['http://localhost:8050/login'],\n",
       " 'scope': ['offline_access openid profile'],\n",
       " 'state': ['HqmzTBKIOgsFuNrL'],\n",
       " 'code_challenge': ['UUgzTEAU75eocqCwv4ujj2GFKvLICEVB3s5vGG4f--w'],\n",
       " 'code_challenge_method': ['S256'],\n",
       " 'nonce': ['f15158a84d07ba96dfa242e3d5c4a2f830a1f009eef7d95321a745c1ee057e5b'],\n",
       " 'client_info': ['1']}"
      ]
     },
     "execution_count": 8,
     "metadata": {},
     "output_type": "execute_result"
    }
   ],
   "source": [
    "parsed_url = urlparse(flow['auth_uri'])\n",
    "\n",
    "param_dict = parse_qs(parsed_url.query)\n",
    "param_dict"
   ]
  },
  {
   "cell_type": "markdown",
   "metadata": {},
   "source": [
    "### sending a redirect to FrontEnd"
   ]
  },
  {
   "cell_type": "code",
   "execution_count": 9,
   "metadata": {},
   "outputs": [
    {
     "data": {
      "text/plain": [
       "True"
      ]
     },
     "execution_count": 9,
     "metadata": {},
     "output_type": "execute_result"
    }
   ],
   "source": [
    "webbrowser.open_new(flow['auth_uri'])"
   ]
  },
  {
   "cell_type": "markdown",
   "metadata": {},
   "source": [
    "### MSFT response after login"
   ]
  },
  {
   "cell_type": "code",
   "execution_count": 10,
   "metadata": {},
   "outputs": [
    {
     "data": {
      "text/plain": [
       "{'code': '0.AagALFNky06yB0GOd4yk_snb9nyobQZfLTRAoBqdRpTMvQPzAPU.AgABBAIAAADnfolhJpSnRYB1SVj-Hgd8AgDs_wUA9P_1jEq7ohgyJgnkLu408V_3X_7yYhfaJ1ru_E2-vBYIk66IVfzLDbrUPZSs0a2T3bxEGoFI0pPEwG1Xwch-Aq3wCGBOiUoaVzCnXUq8O3vORu1vls8UvfqxqusSytnaFQ1jvpt5rZIhg4NNnUnmudiLCMNlpEjGF1QGQrqGhMEykR00D-UJr0wRZ9Uk57uJZQPyVnkBN-kp_nz4ZQ2yuEs1dnEq-Sdsmet5vDpe3_yMTPKD2YilB5A9CtWFBQ1VrcjRmYaCDmM0e0CNVMEPTgIn6NReZpT8gU_I1FWGTXvmZk7IC8WGbyeCb6v0FXm36dW1NMlEMXCcurxgElbxQ0xCL1jTdiZ8t8FOKwdgbb3IyVLbbYNBYp3yypwO3aYpd1Skm8YnTuUYTyxBFHG1VCUoruN9fDuKB38PeROCMchRyTS4MIfayQdKH4j8CJ0X28d_APOPz_wrWjRHPBYfFT6p1diMYfaAX0zg749l53KFV7IcnfC4ZXvpO76bipJoA2g_vdux7wLUUEV_gbCQcfbz2gGLNR9cfc-WZCWRKZ65aloq7yzPTS7KC0BQ1o-VefjCBDilwNZRB1GtL-S_rAZUZkGHT0WoY4KGQOyCTG67u5HmG7Lp6q_vssAOjNicfoHB6sypv4fdSa82yjhEG0c812O62NWxQWsd9x2VRZsAe6wkhLQqr-J8EpD75U5to3nkZr7K1GJwTrd7oP54Bj16MCxdy0an2aZe8x1xS_IUVjRsNjKifbMYp_hI5-6pLdUUMP_8jYToEtra3P6Oom_bPF_K-JmBCDpLEis5oYUBEIYHqVGazi-wM9nMmDA-VxnXK9E_f7YSJbS5Zq26Yv6MkSOx6OzjP3Nt3XVa_Pexy2Tt_9_tF7m0swrrCeMHbAE4f3OxC99O7LCiHRY7aFnVmazoRnLvH7iJiic53wvmMb3Qp1SH1fgYA-YmQ1eVggT1w-0NCWhqcMtrkI0DzIqqGm9MZSoXbBVlLj9_CcmxZ8zRJueQ2ctF2MRT-de0qDWXrU9S1Z7m14A8M6rCv0beOy48bO2ttHboFtPuCTewVI3AswButxcgWNZnQ5Sen1Jvt_yIZ7DyDU7DmFJ5_BPg0tgluEtdax2nqZAY-TeRn7Gt_B5aEcvKoJvRtdS2EyLvpBh6BFk4h6LQRiMarnETeFzTlP65-nj4ED0gxNPKJxCr6TAtoCccIAOh1yx5Jdnh70cGU7pu4AaVumY0FgI-eqhJPmwoF3uhMsEM6UlhQ_aWoVVdAza4KEWJCDBxsvhMcVOfBm55cJj4MeJ63QWL9e8_tupWmuK5J49ZRrKIgq_KJTpxAATMgh-b418QygbQX0msptYgBvwDCTRgMjUKzOgr-cYDrkm3GUBu-nBetbaWrPde4RDJ__sQYuXe3TKBAErIaFLErSrG01lRoH3MKRH3_T4p15GqeIAiEyhlLDaf',\n",
       " 'client_info': 'eyJ1aWQiOiIwMDAwMDAwMC0wMDAwLTAwMDAtNDQ1My05ZjUxYzgzNmU1NWUiLCJ1dGlkIjoiOTE4ODA0MGQtNmM2Ny00YzViLWIxMTItMzZhMzA0YjY2ZGFkIn0',\n",
       " 'state': 'HqmzTBKIOgsFuNrL',\n",
       " 'session_state': 'f4fb3dc1-9be0-48df-8b0e-2f2cc96bc63e'}"
      ]
     },
     "execution_count": 10,
     "metadata": {},
     "output_type": "execute_result"
    }
   ],
   "source": [
    "full_url = \"http://localhost:8050/login?code=0.AagALFNky06yB0GOd4yk_snb9nyobQZfLTRAoBqdRpTMvQPzAPU.AgABBAIAAADnfolhJpSnRYB1SVj-Hgd8AgDs_wUA9P_1jEq7ohgyJgnkLu408V_3X_7yYhfaJ1ru_E2-vBYIk66IVfzLDbrUPZSs0a2T3bxEGoFI0pPEwG1Xwch-Aq3wCGBOiUoaVzCnXUq8O3vORu1vls8UvfqxqusSytnaFQ1jvpt5rZIhg4NNnUnmudiLCMNlpEjGF1QGQrqGhMEykR00D-UJr0wRZ9Uk57uJZQPyVnkBN-kp_nz4ZQ2yuEs1dnEq-Sdsmet5vDpe3_yMTPKD2YilB5A9CtWFBQ1VrcjRmYaCDmM0e0CNVMEPTgIn6NReZpT8gU_I1FWGTXvmZk7IC8WGbyeCb6v0FXm36dW1NMlEMXCcurxgElbxQ0xCL1jTdiZ8t8FOKwdgbb3IyVLbbYNBYp3yypwO3aYpd1Skm8YnTuUYTyxBFHG1VCUoruN9fDuKB38PeROCMchRyTS4MIfayQdKH4j8CJ0X28d_APOPz_wrWjRHPBYfFT6p1diMYfaAX0zg749l53KFV7IcnfC4ZXvpO76bipJoA2g_vdux7wLUUEV_gbCQcfbz2gGLNR9cfc-WZCWRKZ65aloq7yzPTS7KC0BQ1o-VefjCBDilwNZRB1GtL-S_rAZUZkGHT0WoY4KGQOyCTG67u5HmG7Lp6q_vssAOjNicfoHB6sypv4fdSa82yjhEG0c812O62NWxQWsd9x2VRZsAe6wkhLQqr-J8EpD75U5to3nkZr7K1GJwTrd7oP54Bj16MCxdy0an2aZe8x1xS_IUVjRsNjKifbMYp_hI5-6pLdUUMP_8jYToEtra3P6Oom_bPF_K-JmBCDpLEis5oYUBEIYHqVGazi-wM9nMmDA-VxnXK9E_f7YSJbS5Zq26Yv6MkSOx6OzjP3Nt3XVa_Pexy2Tt_9_tF7m0swrrCeMHbAE4f3OxC99O7LCiHRY7aFnVmazoRnLvH7iJiic53wvmMb3Qp1SH1fgYA-YmQ1eVggT1w-0NCWhqcMtrkI0DzIqqGm9MZSoXbBVlLj9_CcmxZ8zRJueQ2ctF2MRT-de0qDWXrU9S1Z7m14A8M6rCv0beOy48bO2ttHboFtPuCTewVI3AswButxcgWNZnQ5Sen1Jvt_yIZ7DyDU7DmFJ5_BPg0tgluEtdax2nqZAY-TeRn7Gt_B5aEcvKoJvRtdS2EyLvpBh6BFk4h6LQRiMarnETeFzTlP65-nj4ED0gxNPKJxCr6TAtoCccIAOh1yx5Jdnh70cGU7pu4AaVumY0FgI-eqhJPmwoF3uhMsEM6UlhQ_aWoVVdAza4KEWJCDBxsvhMcVOfBm55cJj4MeJ63QWL9e8_tupWmuK5J49ZRrKIgq_KJTpxAATMgh-b418QygbQX0msptYgBvwDCTRgMjUKzOgr-cYDrkm3GUBu-nBetbaWrPde4RDJ__sQYuXe3TKBAErIaFLErSrG01lRoH3MKRH3_T4p15GqeIAiEyhlLDaf&client_info=eyJ1aWQiOiIwMDAwMDAwMC0wMDAwLTAwMDAtNDQ1My05ZjUxYzgzNmU1NWUiLCJ1dGlkIjoiOTE4ODA0MGQtNmM2Ny00YzViLWIxMTItMzZhMzA0YjY2ZGFkIn0&state=HqmzTBKIOgsFuNrL&session_state=f4fb3dc1-9be0-48df-8b0e-2f2cc96bc63e#\"\n",
    "parsed_url = urlparse(full_url)\n",
    "\n",
    "resp = parse_qs(parsed_url.query)\n",
    "resp = {k: v[0] for k, v in resp.items()}\n",
    "resp"
   ]
  },
  {
   "cell_type": "code",
   "execution_count": 11,
   "metadata": {},
   "outputs": [],
   "source": [
    "test = app.acquire_token_by_auth_code_flow(auth_code_flow=flow, auth_response=resp)"
   ]
  },
  {
   "cell_type": "code",
   "execution_count": 12,
   "metadata": {},
   "outputs": [
    {
     "data": {
      "text/plain": [
       "{'token_type': 'Bearer',\n",
       " 'scope': 'openid profile email',\n",
       " 'expires_in': 3825,\n",
       " 'ext_expires_in': 3825,\n",
       " 'access_token': 'eyJ0eXAiOiJKV1QiLCJub25jZSI6ImdTS1gtRWVWcTNzdU5qMWFMOElObkR1TDZDSlFTRXBaejZSa29YUjdxQWMiLCJhbGciOiJSUzI1NiIsIng1dCI6IkwxS2ZLRklfam5YYndXYzIyeFp4dzFzVUhIMCIsImtpZCI6IkwxS2ZLRklfam5YYndXYzIyeFp4dzFzVUhIMCJ9.eyJhdWQiOiIwMDAwMDAwMy0wMDAwLTAwMDAtYzAwMC0wMDAwMDAwMDAwMDAiLCJpc3MiOiJodHRwczovL3N0cy53aW5kb3dzLm5ldC9jYjY0NTMyYy1iMjRlLTQxMDctOGU3Ny04Y2E0ZmVjOWRiZjYvIiwiaWF0IjoxNzE3NTU2ODU5LCJuYmYiOjE3MTc1NTY4NTksImV4cCI6MTcxNzU2MDk4NSwiYWNjdCI6MCwiYWNyIjoiMSIsImFpbyI6IkFZUUFlLzhXQUFBQW5mVUhNNm1lSWUwdDN2eGZIVHpESDE4dlVsL2FBQ1I3SDJCeFdQWjlpLzhaaGc3cTdQNjhUeWs5UVFVRzNMcWpkTU15dWphUTlEbU5pTUVpR2VQOGxQT2FGcVF1ZjFJME01U0psYlRiSXZ0bzRuRWdFOGFKNkF4am9aVnFUL3hFeVpUc3hCUmhEK3p2YUd4c04weFRSOVJHQUhhb2Z0Q3ViS3MwdU83WHVCYz0iLCJhbHRzZWNpZCI6IjE6bGl2ZS5jb206MDAwMzdGRkU2RjhCMjZEMSIsImFtciI6WyJwd2QiLCJtZmEiXSwiYXBwX2Rpc3BsYXluYW1lIjoiVGVzdC1PcGVuSUQtRmxvdyIsImFwcGlkIjoiMDY2ZGE4N2MtMmQ1Zi00MDM0LWEwMWEtOWQ0Njk0Y2NiZDAzIiwiYXBwaWRhY3IiOiIxIiwiZW1haWwiOiJKaW0ubGV2ZXNxdWU4QGljbG91ZC5jb20iLCJmYW1pbHlfbmFtZSI6IkxldmVzcXVlIiwiZ2l2ZW5fbmFtZSI6IkppbW15IiwiaWRwIjoibGl2ZS5jb20iLCJpZHR5cCI6InVzZXIiLCJpcGFkZHIiOiIxNzQuODguMjQ5LjU0IiwibmFtZSI6IkppbW15IExldmVzcXVlIiwib2lkIjoiYzVhNDQyZGUtODE5NS00NmQ1LWJiOGUtNjRkOGJiZjBlMGU5IiwicGxhdGYiOiI1IiwicHVpZCI6IjEwMDMyMDAzNTlCMkE5NzIiLCJyaCI6IjAuQWFnQUxGTmt5MDZ5QjBHT2Q0eWtfc25iOWdNQUFBQUFBQUFBd0FBQUFBQUFBQUR6QVBVLiIsInNjcCI6Im9wZW5pZCBwcm9maWxlIGVtYWlsIiwic2lnbmluX3N0YXRlIjpbImttc2kiXSwic3ViIjoiNGRuX2MzRFE5emlLaXN0dF93VTZKdzBzeEZRM1Y5WERSSVI2WWUwb01HOCIsInRlbmFudF9yZWdpb25fc2NvcGUiOiJOQSIsInRpZCI6ImNiNjQ1MzJjLWIyNGUtNDEwNy04ZTc3LThjYTRmZWM5ZGJmNiIsInVuaXF1ZV9uYW1lIjoibGl2ZS5jb20jSmltLmxldmVzcXVlOEBpY2xvdWQuY29tIiwidXRpIjoiMVI3cVZLZFlHVWkwdy01UzdabTVBQSIsInZlciI6IjEuMCIsIndpZHMiOlsiNjJlOTAzOTQtNjlmNS00MjM3LTkxOTAtMDEyMTc3MTQ1ZTEwIiwiYjc5ZmJmNGQtM2VmOS00Njg5LTgxNDMtNzZiMTk0ZTg1NTA5Il0sInhtc19zdCI6eyJzdWIiOiItZ2FYZlZucTdXTU1pNTFoaGlzMmswUmc5dHRLcktySktVaDRwU0RONVhRIn0sInhtc190Y2R0IjoxNzA5MDAxMDIwfQ.ad8BktBG-u1sLlxkvlvptyA33zGKnYB57FcFSRj8mXa53oz8xWHUcrIkFgih2WvJOTv5YQmRn6SG5PqWYw4LRJCANuEvCQDhWPY16DWOlCSXcmmkjeK670AcONqEiXzBR4qSQCO5ybEUFcyG-xuHl2rz1TrIBupPNj9tatbqMidUZwRL9PqSFgAuc_wfmaT1cAXxo6eEXQQAZsFyCeHqcqoav_wEaSjJgS_gsfaZzo1r7B3Z5YrRUuRl_aJfZf37AfM-hA7GKaE_xgtj0b5lX34-eF2UNPdSVmdcl19DCpFUJvjnWTuzIKDnQ1d-VJvmAiekeJCUMGMRl3_Evv09sQ',\n",
       " 'refresh_token': '0.AagALFNky06yB0GOd4yk_snb9nyobQZfLTRAoBqdRpTMvQPzAPU.AgABAwEAAADnfolhJpSnRYB1SVj-Hgd8AgDs_wUA9P8R4lDkD7Yfv3xFSA-BRX0CaLZWyWxjaGshynu3MdSz68iA5aU04CK6Px0Ty9yrAUDYTw8qwKXDo1pwIucDkagTtISJ7nS2t6JQ3yMyGMy-33IDr6CEmgxLgYSuXy0tXI-3AslyZ_LoiMQbZO8E9fAULQcYNmK5IhnFx-cINbei4bEpxeDQrrNzvhOxO8K70YbFrCNF0ae_uJoKq8ug8lbC0-iN_d09qqra7_Oe8plkpYIsBHWprgGLEBotUoo1pVHJjBtHkkr40RzHg9oFeWb-jXYSx5mBbE5yGyHQQMxISIOrWqwAPfQiJtg8DTcrRYCcQ-2whTGja_ddTAHsAQB8r9mV3EWXJzyCumsQSnFW_cqC4jVOjd4rIXAmfP70q_VI3WD_WAH6q4KvcSW4hRiJFWO8amq_OfwQ0rstpPYuZ6KXTuDjAvRcmEMBteX3sGyxPps9my8L_ck4mOzTYnn-ViHJwdOb6Yge7z2b5U5yQ-8oWw9McXOTWAzmlXG2YPl-6EVvdxnBtRMaawJ_84s9fKykOp3uz-J1JWUA-CdKxD5y2rpEuaauYjBay3rOmq_TgNIwiz0Sfk-EzhdWU_pr2dvJBPuHBYDmEDI6TKYtTsKcU8968TAOZQ55PKXD_snTk47ytaiP0TdnlAn4Bt0mfFPjOqQXeUkmEyqgDeiMRc2AnliLCmXXJCLdJis5VaPYBA87pz9I2shD7CyRTQ-sM-XoS03VZld6-2mswE-H8SJyhfXiW-_mMXoCR61wL-41wIqWUfze57Moa77LvlzEPeaRw8AljMIlDxe7iq6od9NuaRI8ijyy4korX1oIzYmynPEmt89zKQHCYzF9Ek_HYUV52-2IeoYMXytnjcoDeuL90npk5pNo3AnCNpClX04sB4heOH0SKoC-U7GVGi1C7YSdmwNQo1sDDISwAZOeVIOSNRJDbRIQTRUjntJx5NEMSe0WZysZy9pOsUmiiTXn8tapMtDWPPFE1X4cxnNvyngif-3xrUcJJMq8Mk2QKD_uLrIs1ZLT9oV2t3tFfvvBtJ3egNzj8dypr7IP0l5W5ixnDtQaImoE76Evm2abI9KgAU7ydRFSXP1uSfGQQuKa2GYGuU2JFMOum7gG08DBHrjKoKVbQb9EMqoedotZJ0vwwudGLuhbSGbCwlqIa-8RIGlrX6HdMgySqWRuEZ5EcCSbQjbq_uCIKwrt8CPGtuCjA4YN1X0mOs2rHvK5n5PQm7wMJyIQSWHVi3W4vxJmD6nfW751VLjHiBZg5UvyF8zos_0SzxYBe3MKEreWIpn3RAvlBzlkKx2kC5DMQi9rY78SOsyCes3itzHKCFEldKDiKkfyY0bBzmgWPsC35TBOb0aY-Dqv12g1CAqyCPDGcbHJeIJs7cJhR9MlAB1CZbe-t6igm1WgQxRBX-SH6e73J5fzw4DOWeweTm-TqIv5Z5-YztJ0ugOrDB60Sbemy3isTDAPVFRlRXxGPO5eBvwA9x9zsoYyNVlLy6ARIoQgirwE9KQEXFhDorPGVKD1oziYHbUPJKsLps66PBJA',\n",
       " 'id_token': 'eyJ0eXAiOiJKV1QiLCJhbGciOiJSUzI1NiIsImtpZCI6IkwxS2ZLRklfam5YYndXYzIyeFp4dzFzVUhIMCJ9.eyJhdWQiOiIwNjZkYTg3Yy0yZDVmLTQwMzQtYTAxYS05ZDQ2OTRjY2JkMDMiLCJpc3MiOiJodHRwczovL2xvZ2luLm1pY3Jvc29mdG9ubGluZS5jb20vY2I2NDUzMmMtYjI0ZS00MTA3LThlNzctOGNhNGZlYzlkYmY2L3YyLjAiLCJpYXQiOjE3MTc1NTY4NTksIm5iZiI6MTcxNzU1Njg1OSwiZXhwIjoxNzE3NTYwNzU5LCJpZHAiOiJodHRwczovL3N0cy53aW5kb3dzLm5ldC85MTg4MDQwZC02YzY3LTRjNWItYjExMi0zNmEzMDRiNjZkYWQvIiwibmFtZSI6IkppbW15IExldmVzcXVlIiwibm9uY2UiOiJmMTUxNThhODRkMDdiYTk2ZGZhMjQyZTNkNWM0YTJmODMwYTFmMDA5ZWVmN2Q5NTMyMWE3NDVjMWVlMDU3ZTViIiwib2lkIjoiYzVhNDQyZGUtODE5NS00NmQ1LWJiOGUtNjRkOGJiZjBlMGU5IiwicHJlZmVycmVkX3VzZXJuYW1lIjoiSmltLmxldmVzcXVlOEBpY2xvdWQuY29tIiwicmgiOiIwLkFhZ0FMRk5reTA2eUIwR09kNHlrX3NuYjlueW9iUVpmTFRSQW9CcWRScFRNdlFQekFQVS4iLCJzdWIiOiItZ2FYZlZucTdXTU1pNTFoaGlzMmswUmc5dHRLcktySktVaDRwU0RONVhRIiwidGlkIjoiY2I2NDUzMmMtYjI0ZS00MTA3LThlNzctOGNhNGZlYzlkYmY2IiwidXRpIjoiMVI3cVZLZFlHVWkwdy01UzdabTVBQSIsInZlciI6IjIuMCJ9.TyfiXFmx0zheHnE79qhKVsSTzrA6SzQCk1TfL-Tyi5rWwry6X1WF04nPZcNUeIfCLnV9d9M6ScDt6HqbnzduGSFp9ZoeFpzQF5msHkRnFrlXeZho9Ku43pGB1GarM4s2BMucAnbFhPMB9VogAMs2sTxrHAmY3MVV2-Kizew-DFF7y4vYtA0jCU52IR-NmUltrx4v6AqrM5u_h_j3daYrQflk_tlIV5tDusBMD9SB_ZEa0HMSP9zkjXZWB-Z3j1D2kc4ZAhle6fyDnUT4dbV7gVjegpnhLplhJCaT5kfiWWdxO6jtRGLIunsvWVPgcsUVGdHBTZP1xlJ6qgp7ppSJvw',\n",
       " 'client_info': 'eyJ1aWQiOiIwMDAwMDAwMC0wMDAwLTAwMDAtNDQ1My05ZjUxYzgzNmU1NWUiLCJ1dGlkIjoiOTE4ODA0MGQtNmM2Ny00YzViLWIxMTItMzZhMzA0YjY2ZGFkIn0',\n",
       " 'id_token_claims': {'aud': '066da87c-2d5f-4034-a01a-9d4694ccbd03',\n",
       "  'iss': 'https://login.microsoftonline.com/cb64532c-b24e-4107-8e77-8ca4fec9dbf6/v2.0',\n",
       "  'iat': 1717556859,\n",
       "  'nbf': 1717556859,\n",
       "  'exp': 1717560759,\n",
       "  'idp': 'https://sts.windows.net/9188040d-6c67-4c5b-b112-36a304b66dad/',\n",
       "  'name': 'Jimmy Levesque',\n",
       "  'nonce': 'f15158a84d07ba96dfa242e3d5c4a2f830a1f009eef7d95321a745c1ee057e5b',\n",
       "  'oid': 'c5a442de-8195-46d5-bb8e-64d8bbf0e0e9',\n",
       "  'preferred_username': 'Jim.levesque8@icloud.com',\n",
       "  'rh': '0.AagALFNky06yB0GOd4yk_snb9nyobQZfLTRAoBqdRpTMvQPzAPU.',\n",
       "  'sub': '-gaXfVnq7WMMi51hhis2k0Rg9ttKrKrJKUh4pSDN5XQ',\n",
       "  'tid': 'cb64532c-b24e-4107-8e77-8ca4fec9dbf6',\n",
       "  'uti': '1R7qVKdYGUi0w-5S7Zm5AA',\n",
       "  'ver': '2.0'},\n",
       " 'token_source': 'identity_provider'}"
      ]
     },
     "execution_count": 12,
     "metadata": {},
     "output_type": "execute_result"
    }
   ],
   "source": [
    "test"
   ]
  },
  {
   "cell_type": "code",
   "execution_count": 14,
   "metadata": {},
   "outputs": [
    {
     "data": {
      "text/plain": [
       "'Jim.levesque8@icloud.com'"
      ]
     },
     "execution_count": 14,
     "metadata": {},
     "output_type": "execute_result"
    }
   ],
   "source": [
    "test.get('id_token_claims').get('preferred_username')"
   ]
  },
  {
   "cell_type": "code",
   "execution_count": null,
   "metadata": {},
   "outputs": [],
   "source": []
  },
  {
   "cell_type": "code",
   "execution_count": null,
   "metadata": {},
   "outputs": [
    {
     "name": "stdout",
     "output_type": "stream",
     "text": [
      "['', 'login']\n",
      "{}\n"
     ]
    }
   ],
   "source": [
    "tmp_url = 'http://127.0.0.1:8050/login'\n",
    "parsed_url = urlparse(tmp_url)\n",
    "print(parsed_url.path.split('/'))\n",
    "param_dict = parse_qs(parsed_url.query)\n",
    "print(param_dict)"
   ]
  },
  {
   "cell_type": "code",
   "execution_count": null,
   "metadata": {},
   "outputs": [
    {
     "data": {
      "text/plain": [
       "True"
      ]
     },
     "execution_count": 16,
     "metadata": {},
     "output_type": "execute_result"
    }
   ],
   "source": [
    "param_dict == {}"
   ]
  },
  {
   "cell_type": "code",
   "execution_count": null,
   "metadata": {},
   "outputs": [
    {
     "data": {
      "text/plain": [
       "dict"
      ]
     },
     "execution_count": 17,
     "metadata": {},
     "output_type": "execute_result"
    }
   ],
   "source": [
    "type(param_dict)"
   ]
  },
  {
   "cell_type": "code",
   "execution_count": null,
   "metadata": {},
   "outputs": [],
   "source": []
  }
 ],
 "metadata": {
  "kernelspec": {
   "display_name": ".venv",
   "language": "python",
   "name": "python3"
  },
  "language_info": {
   "codemirror_mode": {
    "name": "ipython",
    "version": 3
   },
   "file_extension": ".py",
   "mimetype": "text/x-python",
   "name": "python",
   "nbconvert_exporter": "python",
   "pygments_lexer": "ipython3",
   "version": "3.9.6"
  }
 },
 "nbformat": 4,
 "nbformat_minor": 2
}
